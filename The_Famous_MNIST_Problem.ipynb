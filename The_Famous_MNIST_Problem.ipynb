{
  "nbformat": 4,
  "nbformat_minor": 0,
  "metadata": {
    "colab": {
      "name": "The Famous MNIST Problem",
      "provenance": [],
      "collapsed_sections": [],
      "authorship_tag": "ABX9TyNdswrvahfQYVvpUtG0MbUj",
      "include_colab_link": true
    },
    "kernelspec": {
      "name": "python3",
      "display_name": "Python 3"
    },
    "language_info": {
      "name": "python"
    }
  },
  "cells": [
    {
      "cell_type": "markdown",
      "metadata": {
        "id": "view-in-github",
        "colab_type": "text"
      },
      "source": [
        "<a href=\"https://colab.research.google.com/github/ajay1808/NeuralNetworks/blob/main/The_Famous_MNIST_Problem.ipynb\" target=\"_parent\"><img src=\"https://colab.research.google.com/assets/colab-badge.svg\" alt=\"Open In Colab\"/></a>"
      ]
    },
    {
      "cell_type": "markdown",
      "source": [
        "This is a try to achieve a high level of accuracy in the MNIST Problem using Neural Networks."
      ],
      "metadata": {
        "id": "FtkcEyHLmZ0n"
      }
    },
    {
      "cell_type": "code",
      "source": [
        "%tensorflow_version 2.x\n",
        "from __future__ import absolute_import, division, print_function, unicode_literals"
      ],
      "metadata": {
        "id": "skarql1YmmJA"
      },
      "execution_count": 1,
      "outputs": []
    },
    {
      "cell_type": "code",
      "source": [
        "# Import the relevant Modules\n",
        "import numpy as np\n",
        "import pandas as pd\n",
        "import tensorflow as tf\n",
        "import seaborn as sns\n",
        "from tensorflow.keras import layers\n",
        "from matplotlib import pyplot as plt\n",
        "\n",
        "pd.options.display.max_rows = 15\n",
        "pd.options.display.float_format = \"{:.1f}\".format\n",
        "\n",
        "np.set_printoptions(linewidth = 250)"
      ],
      "metadata": {
        "id": "8HXxnNQqmqdn"
      },
      "execution_count": 2,
      "outputs": []
    },
    {
      "cell_type": "markdown",
      "source": [
        "Now lets import the Training and Test Data for the MNIST dataset from the Keras Library"
      ],
      "metadata": {
        "id": "2D1ljdwAnb6D"
      }
    },
    {
      "cell_type": "code",
      "source": [
        "(x_train, y_train),(x_test, y_test) = tf.keras.datasets.mnist.load_data()\n"
      ],
      "metadata": {
        "colab": {
          "base_uri": "https://localhost:8080/"
        },
        "id": "y-VemiNhnQvy",
        "outputId": "3c229962-1ee8-4491-aecb-f1e33efbc105"
      },
      "execution_count": 3,
      "outputs": [
        {
          "output_type": "stream",
          "name": "stdout",
          "text": [
            "Downloading data from https://storage.googleapis.com/tensorflow/tf-keras-datasets/mnist.npz\n",
            "11493376/11490434 [==============================] - 0s 0us/step\n",
            "11501568/11490434 [==============================] - 0s 0us/step\n"
          ]
        }
      ]
    },
    {
      "cell_type": "code",
      "source": [
        "print(\"Length of x_train: \",len(x_train))\n",
        "print(\"Length of x_test:\",len(x_test))\n",
        "print(\"Length of y_train: \",len(y_train))\n",
        "print(\"Length of y_test:\",len(y_test))"
      ],
      "metadata": {
        "colab": {
          "base_uri": "https://localhost:8080/"
        },
        "id": "DaJXFdCNnqb4",
        "outputId": "551b049a-4e10-4675-9b43-a56c220b5314"
      },
      "execution_count": 4,
      "outputs": [
        {
          "output_type": "stream",
          "name": "stdout",
          "text": [
            "Length of x_train:  60000\n",
            "Length of x_test: 10000\n",
            "Length of y_train:  60000\n",
            "Length of y_test: 10000\n"
          ]
        }
      ]
    },
    {
      "cell_type": "code",
      "source": [
        "x_train[2343]"
      ],
      "metadata": {
        "colab": {
          "base_uri": "https://localhost:8080/"
        },
        "id": "gyVta4ivnxxK",
        "outputId": "9607cedc-cd73-4a83-dd74-40af5affb844"
      },
      "execution_count": 5,
      "outputs": [
        {
          "output_type": "execute_result",
          "data": {
            "text/plain": [
              "array([[  0,   0,   0,   0,   0,   0,   0,   0,   0,   0,   0,   0,   0,   0,   0,   0,   0,   0,   0,   0,   0,   0,   0,   0,   0,   0,   0,   0],\n",
              "       [  0,   0,   0,   0,   0,   0,   0,   0,   0,   0,   0,   0,   0,   0,   0,   0,   0,   0,   0,   0,   0,   0,   0,   0,   0,   0,   0,   0],\n",
              "       [  0,   0,   0,   0,   0,   0,   0,   0,   0,   0,   0,   0,   0,   0,   0,   0,   0,   0,   0,   0,   0,   0,   0,   0,   0,   0,   0,   0],\n",
              "       [  0,   0,   0,   0,   0,   0,   0,   0,   0,   0,   0,   0,   0,   0,   0,   0,   0,   0,   0,   0,   0,   0,   0,   0,   0,   0,   0,   0],\n",
              "       [  0,   0,   0,   0,   0,   0,   0,   0,   0,   0,   0,   0,   0,   0,   0,   0,   0,   0,   0,   0,   0,   0,   0,   0,   0,   0,   0,   0],\n",
              "       [  0,   0,   0,   0,   0,   0,   0,   0,   0,   0,   0,   0,   0,   0,   0,   0,   0,   0,   0,   0,   0,   0,   0,   0,   0,   0,   0,   0],\n",
              "       [  0,   0,   0,   0,   0,   0,   0,   0,   0,   0,   0,   0,   0,   0,   0,   0,   0,   0,   0,   0,   0,   0,   0,   0,   0,   0,   0,   0],\n",
              "       [  0,   0,   0,   0,   0,   0,   0,   0,   0,   0,   0,   0,   0,   0,   0,  14,  41,  59,  59,  59, 107, 137, 173, 215, 166,   0,   0,   0],\n",
              "       [  0,   0,   0,   0,   0,   0,   0,   0,   0,   0,   0,   0,   0,  31, 127, 239, 247, 254, 253, 253, 253, 254, 253, 253, 156,   0,   0,   0],\n",
              "       [  0,   0,   0,   0,   0,   0,   0,   0,   0,   0,   0,   0,   0, 182, 254, 254, 242, 235, 222, 156, 156,  79,  43,   0,   0,   0,   0,   0],\n",
              "       [  0,   0,   0,   0,   0,   0,   0,   0,   0,   0,   0,   0,  73, 254, 187, 118,  23,   0,   0,   0,   0,   0,   0,   0,   0,   0,   0,   0],\n",
              "       [  0,   0,   0,   0,   0,   0,   0,   0,   0,   0,   0,  50, 227, 249,  45,   0,   0,   0,   0,   0,   0,   0,   0,   0,   0,   0,   0,   0],\n",
              "       [  0,   0,   0,   0,   0,   0,   0,   0,   0,   0,  13, 178, 253, 162,   0,   0,   0,   0,   0,   0,   0,   0,   0,   0,   0,   0,   0,   0],\n",
              "       [  0,   0,   0,   0,   0,   0,   0,   0,   0,   0, 172, 254, 181,  20,   5,   0,   0,   0,   0,   0,   0,   0,   0,   0,   0,   0,   0,   0],\n",
              "       [  0,   0,   0,   0,   0,   0,   0,   0,   0,   7, 201, 253, 253, 254, 208, 129,  21,   0,   0,   0,   0,   0,   0,   0,   0,   0,   0,   0],\n",
              "       [  0,   0,   0,   0,   0,   0,   0,   0,   0,   0,  30, 117, 164, 195, 221, 253, 163,   0,   0,   0,   0,   0,   0,   0,   0,   0,   0,   0],\n",
              "       [  0,   0,   0,   0,   0,   0,   0,   0,   0,   0,   0,   0,   0,   0, 141, 253, 151,   0,   0,   0,   0,   0,   0,   0,   0,   0,   0,   0],\n",
              "       [  0,   0,   0,   0,   0,  14,   5,   0,   0,   0,   0,   0,  13, 134, 254, 225,  12,   0,   0,   0,   0,   0,   0,   0,   0,   0,   0,   0],\n",
              "       [  0,   0,   0,   0,   0, 188, 178,   0,   0,   0,   0,  22, 195, 254, 235,  75,   0,   0,   0,   0,   0,   0,   0,   0,   0,   0,   0,   0],\n",
              "       [  0,   0,   0,   0,   0, 169, 247,  93,   0,   0,  40, 199, 253, 225,  63,   0,   0,   0,   0,   0,   0,   0,   0,   0,   0,   0,   0,   0],\n",
              "       [  0,   0,   0,   0,   0,  26, 253, 249, 210, 156, 225, 253, 181,  36,   0,   0,   0,   0,   0,   0,   0,   0,   0,   0,   0,   0,   0,   0],\n",
              "       [  0,   0,   0,   0,   0,   0,  49, 198, 246, 255, 251, 127,  30,   0,   0,   0,   0,   0,   0,   0,   0,   0,   0,   0,   0,   0,   0,   0],\n",
              "       [  0,   0,   0,   0,   0,   0,   0,   0,  60, 107,  49,   0,   0,   0,   0,   0,   0,   0,   0,   0,   0,   0,   0,   0,   0,   0,   0,   0],\n",
              "       [  0,   0,   0,   0,   0,   0,   0,   0,   0,   0,   0,   0,   0,   0,   0,   0,   0,   0,   0,   0,   0,   0,   0,   0,   0,   0,   0,   0],\n",
              "       [  0,   0,   0,   0,   0,   0,   0,   0,   0,   0,   0,   0,   0,   0,   0,   0,   0,   0,   0,   0,   0,   0,   0,   0,   0,   0,   0,   0],\n",
              "       [  0,   0,   0,   0,   0,   0,   0,   0,   0,   0,   0,   0,   0,   0,   0,   0,   0,   0,   0,   0,   0,   0,   0,   0,   0,   0,   0,   0],\n",
              "       [  0,   0,   0,   0,   0,   0,   0,   0,   0,   0,   0,   0,   0,   0,   0,   0,   0,   0,   0,   0,   0,   0,   0,   0,   0,   0,   0,   0],\n",
              "       [  0,   0,   0,   0,   0,   0,   0,   0,   0,   0,   0,   0,   0,   0,   0,   0,   0,   0,   0,   0,   0,   0,   0,   0,   0,   0,   0,   0]], dtype=uint8)"
            ]
          },
          "metadata": {},
          "execution_count": 5
        }
      ]
    },
    {
      "cell_type": "code",
      "source": [
        "len(x_train[2343])"
      ],
      "metadata": {
        "colab": {
          "base_uri": "https://localhost:8080/"
        },
        "id": "PIqg7Tc1oW6G",
        "outputId": "5b474eb1-4540-4bde-bbb9-5452465e1c86"
      },
      "execution_count": 6,
      "outputs": [
        {
          "output_type": "execute_result",
          "data": {
            "text/plain": [
              "28"
            ]
          },
          "metadata": {},
          "execution_count": 6
        }
      ]
    },
    {
      "cell_type": "code",
      "source": [
        "len(x_train[2343][1])"
      ],
      "metadata": {
        "colab": {
          "base_uri": "https://localhost:8080/"
        },
        "id": "8xJano9OoioQ",
        "outputId": "a92c9f15-1574-422e-9fde-ff492fea57e8"
      },
      "execution_count": 7,
      "outputs": [
        {
          "output_type": "execute_result",
          "data": {
            "text/plain": [
              "28"
            ]
          },
          "metadata": {},
          "execution_count": 7
        }
      ]
    },
    {
      "cell_type": "markdown",
      "source": [
        "We can Conclude that our data is of the format 28 x 28 for each entry. With each digit marked on a scale from 0-255"
      ],
      "metadata": {
        "id": "rj3Xew3Eo65k"
      }
    },
    {
      "cell_type": "code",
      "source": [
        "plt.imshow(x_train[2343])"
      ],
      "metadata": {
        "colab": {
          "base_uri": "https://localhost:8080/",
          "height": 282
        },
        "id": "UeLPp8e8o3pz",
        "outputId": "e2c91702-12ba-4cc9-c3eb-5a7d5aa521b4"
      },
      "execution_count": 8,
      "outputs": [
        {
          "output_type": "execute_result",
          "data": {
            "text/plain": [
              "<matplotlib.image.AxesImage at 0x7fc6c2f86710>"
            ]
          },
          "metadata": {},
          "execution_count": 8
        },
        {
          "output_type": "display_data",
          "data": {
            "text/plain": [
              "<Figure size 432x288 with 1 Axes>"
            ],
            "image/png": "[encoded data removed]"
          },
          "metadata": {
            "needs_background": "light"
          }
        }
      ]
    },
    {
      "cell_type": "code",
      "source": [
        "#Normalizing the Data\n",
        "x_train_normalized = x_train / 255.0\n",
        "x_test_normalized = x_test / 255.0"
      ],
      "metadata": {
        "id": "xtnFkVDNpGVy"
      },
      "execution_count": 9,
      "outputs": []
    },
    {
      "cell_type": "code",
      "source": [
        "#Plotting Function\n",
        "def Metric_Plot(epochs, hist, list_of_metrics):\n",
        "\n",
        "  for m in list_of_metrics:\n",
        "    sns.lineplot(data=hist,x=hist[\"Epoch\"], y= hist[m],legend = \"full\",sizes=(.25, 2.5))"
      ],
      "metadata": {
        "id": "lexRYDPhpTJt"
      },
      "execution_count": 10,
      "outputs": []
    },
    {
      "cell_type": "code",
      "source": [
        "#Neural Network\n",
        "\n",
        "def create_model(my_learning_rate):\n",
        "  model = tf.keras.models.Sequential()\n",
        "\n",
        "  #Input Layers\n",
        "  model.add(tf.keras.layers.Flatten(input_shape=(28, 28)))\n",
        "  \n",
        "  #Hidden Layers\n",
        "  model.add(tf.keras.layers.Dense(units=256, activation='relu'))\n",
        "  model.add(tf.keras.layers.Dense(units=128, activation='relu'))\n",
        "  '''\n",
        "  model.add(tf.keras.layers.Dense(units=64, activation='relu'))\n",
        "  model.add(tf.keras.layers.Dense(\n",
        "    32, input_dim=32,\n",
        "    kernel_initializer='ones',\n",
        "    kernel_regularizer=tf.keras.regularizers.L1(0.01),\n",
        "    activity_regularizer=tf.keras.regularizers.L2(0.01)))\n",
        "  '''\n",
        "  model.add(tf.keras.layers.Dropout(rate=0.2))\n",
        "  \n",
        "  #Output\n",
        "  model.add(tf.keras.layers.Dense(units=10, activation='softmax'))     \n",
        "                           \n",
        "   \n",
        "  model.compile(optimizer=tf.keras.optimizers.Adam(learning_rate=my_learning_rate),\n",
        "                loss=\"sparse_categorical_crossentropy\",\n",
        "                metrics=['accuracy'])\n",
        "  \n",
        "  return model    \n",
        "\n",
        "\n",
        "def train_model(model, train_features, train_label, epochs,\n",
        "                batch_size=None, validation_split=0.1):\n",
        "\n",
        "  history = model.fit(x=train_features, y=train_label, batch_size=batch_size,\n",
        "                      epochs=epochs, shuffle=True, \n",
        "                      validation_split=validation_split)\n",
        " \n",
        "  epochs = history.epoch\n",
        "  hist = pd.DataFrame(history.history)\n",
        "\n",
        "  return epochs, hist    "
      ],
      "metadata": {
        "id": "tKg-DujXrQR7"
      },
      "execution_count": 30,
      "outputs": []
    },
    {
      "cell_type": "code",
      "source": [
        "#Adjust Hyperparameters\n",
        "learning_rate = 0.003\n",
        "epochs = 50\n",
        "batch_size = 3000\n",
        "validation_split = 0.2\n",
        "\n",
        "\n",
        "#Create and Train Model\n",
        "my_model = create_model(learning_rate)\n",
        "epochs, hist = train_model(my_model, x_train_normalized, y_train, \n",
        "                           epochs, batch_size, validation_split)\n",
        "#Mention the metrics required to PLot\n",
        "list_of_metrics_to_plot = ['accuracy']\n",
        "\n",
        "\n",
        "histtable = pd.DataFrame(hist)\n",
        "histtable[\"Epoch\"] = np.arange(len(histtable))\n",
        "Metric_Plot(epochs, histtable, list_of_metrics_to_plot)\n",
        "\n",
        "\n",
        "#Check Model Performace\n",
        "print(\"\\n Evaluate the new model against the test set:\")\n",
        "my_model.evaluate(x=x_test_normalized, y=y_test, batch_size=batch_size)"
      ],
      "metadata": {
        "colab": {
          "base_uri": "https://localhost:8080/",
          "height": 1000
        },
        "id": "HC_GbEWZsDdZ",
        "outputId": "17a68b76-d1b4-42a4-9d95-426b4da564e6"
      },
      "execution_count": 31,
      "outputs": [
        {
          "output_type": "stream",
          "name": "stdout",
          "text": [
            "Epoch 1/50\n",
            "16/16 [==============================] - 2s 85ms/step - loss: 0.8659 - accuracy: 0.7440 - val_loss: 0.3243 - val_accuracy: 0.9032\n",
            "Epoch 2/50\n",
            "16/16 [==============================] - 1s 74ms/step - loss: 0.3079 - accuracy: 0.9093 - val_loss: 0.2105 - val_accuracy: 0.9384\n",
            "Epoch 3/50\n",
            "16/16 [==============================] - 1s 75ms/step - loss: 0.2162 - accuracy: 0.9374 - val_loss: 0.1651 - val_accuracy: 0.9513\n",
            "Epoch 4/50\n",
            "16/16 [==============================] - 1s 73ms/step - loss: 0.1669 - accuracy: 0.9504 - val_loss: 0.1393 - val_accuracy: 0.9590\n",
            "Epoch 5/50\n",
            "16/16 [==============================] - 1s 74ms/step - loss: 0.1376 - accuracy: 0.9594 - val_loss: 0.1242 - val_accuracy: 0.9632\n",
            "Epoch 6/50\n",
            "16/16 [==============================] - 1s 74ms/step - loss: 0.1137 - accuracy: 0.9670 - val_loss: 0.1124 - val_accuracy: 0.9669\n",
            "Epoch 7/50\n",
            "16/16 [==============================] - 1s 74ms/step - loss: 0.0960 - accuracy: 0.9723 - val_loss: 0.1015 - val_accuracy: 0.9700\n",
            "Epoch 8/50\n",
            "16/16 [==============================] - 1s 73ms/step - loss: 0.0820 - accuracy: 0.9754 - val_loss: 0.1011 - val_accuracy: 0.9693\n",
            "Epoch 9/50\n",
            "16/16 [==============================] - 1s 74ms/step - loss: 0.0695 - accuracy: 0.9795 - val_loss: 0.0942 - val_accuracy: 0.9722\n",
            "Epoch 10/50\n",
            "16/16 [==============================] - 1s 74ms/step - loss: 0.0609 - accuracy: 0.9819 - val_loss: 0.0874 - val_accuracy: 0.9735\n",
            "Epoch 11/50\n",
            "16/16 [==============================] - 1s 73ms/step - loss: 0.0526 - accuracy: 0.9847 - val_loss: 0.0851 - val_accuracy: 0.9747\n",
            "Epoch 12/50\n",
            "16/16 [==============================] - 1s 75ms/step - loss: 0.0466 - accuracy: 0.9864 - val_loss: 0.0868 - val_accuracy: 0.9746\n",
            "Epoch 13/50\n",
            "16/16 [==============================] - 1s 73ms/step - loss: 0.0421 - accuracy: 0.9879 - val_loss: 0.0848 - val_accuracy: 0.9752\n",
            "Epoch 14/50\n",
            "16/16 [==============================] - 1s 74ms/step - loss: 0.0342 - accuracy: 0.9905 - val_loss: 0.0856 - val_accuracy: 0.9755\n",
            "Epoch 15/50\n",
            "16/16 [==============================] - 1s 73ms/step - loss: 0.0302 - accuracy: 0.9916 - val_loss: 0.0826 - val_accuracy: 0.9756\n",
            "Epoch 16/50\n",
            "16/16 [==============================] - 1s 73ms/step - loss: 0.0262 - accuracy: 0.9931 - val_loss: 0.0822 - val_accuracy: 0.9758\n",
            "Epoch 17/50\n",
            "16/16 [==============================] - 1s 74ms/step - loss: 0.0228 - accuracy: 0.9939 - val_loss: 0.0829 - val_accuracy: 0.9758\n",
            "Epoch 18/50\n",
            "16/16 [==============================] - 1s 74ms/step - loss: 0.0205 - accuracy: 0.9945 - val_loss: 0.0833 - val_accuracy: 0.9764\n",
            "Epoch 19/50\n",
            "16/16 [==============================] - 1s 73ms/step - loss: 0.0181 - accuracy: 0.9948 - val_loss: 0.0829 - val_accuracy: 0.9768\n",
            "Epoch 20/50\n",
            "16/16 [==============================] - 1s 74ms/step - loss: 0.0155 - accuracy: 0.9961 - val_loss: 0.0821 - val_accuracy: 0.9773\n",
            "Epoch 21/50\n",
            "16/16 [==============================] - 1s 75ms/step - loss: 0.0132 - accuracy: 0.9967 - val_loss: 0.0826 - val_accuracy: 0.9772\n",
            "Epoch 22/50\n",
            "16/16 [==============================] - 1s 73ms/step - loss: 0.0122 - accuracy: 0.9973 - val_loss: 0.0858 - val_accuracy: 0.9769\n",
            "Epoch 23/50\n",
            "16/16 [==============================] - 1s 73ms/step - loss: 0.0120 - accuracy: 0.9966 - val_loss: 0.0911 - val_accuracy: 0.9755\n",
            "Epoch 24/50\n",
            "16/16 [==============================] - 1s 74ms/step - loss: 0.0111 - accuracy: 0.9972 - val_loss: 0.0855 - val_accuracy: 0.9771\n",
            "Epoch 25/50\n",
            "16/16 [==============================] - 1s 73ms/step - loss: 0.0093 - accuracy: 0.9980 - val_loss: 0.0889 - val_accuracy: 0.9762\n",
            "Epoch 26/50\n",
            "16/16 [==============================] - 1s 73ms/step - loss: 0.0077 - accuracy: 0.9984 - val_loss: 0.0872 - val_accuracy: 0.9782\n",
            "Epoch 27/50\n",
            "16/16 [==============================] - 1s 73ms/step - loss: 0.0077 - accuracy: 0.9982 - val_loss: 0.0891 - val_accuracy: 0.9772\n",
            "Epoch 28/50\n",
            "16/16 [==============================] - 1s 74ms/step - loss: 0.0071 - accuracy: 0.9985 - val_loss: 0.0901 - val_accuracy: 0.9772\n",
            "Epoch 29/50\n",
            "16/16 [==============================] - 1s 74ms/step - loss: 0.0066 - accuracy: 0.9984 - val_loss: 0.0904 - val_accuracy: 0.9776\n",
            "Epoch 30/50\n",
            "16/16 [==============================] - 1s 76ms/step - loss: 0.0059 - accuracy: 0.9988 - val_loss: 0.0919 - val_accuracy: 0.9772\n",
            "Epoch 31/50\n",
            "16/16 [==============================] - 1s 75ms/step - loss: 0.0054 - accuracy: 0.9987 - val_loss: 0.0903 - val_accuracy: 0.9775\n",
            "Epoch 32/50\n",
            "16/16 [==============================] - 1s 74ms/step - loss: 0.0050 - accuracy: 0.9990 - val_loss: 0.0935 - val_accuracy: 0.9778\n",
            "Epoch 33/50\n",
            "16/16 [==============================] - 1s 75ms/step - loss: 0.0052 - accuracy: 0.9988 - val_loss: 0.0922 - val_accuracy: 0.9773\n",
            "Epoch 34/50\n",
            "16/16 [==============================] - 1s 74ms/step - loss: 0.0041 - accuracy: 0.9994 - val_loss: 0.0917 - val_accuracy: 0.9782\n",
            "Epoch 35/50\n",
            "16/16 [==============================] - 1s 73ms/step - loss: 0.0036 - accuracy: 0.9996 - val_loss: 0.1021 - val_accuracy: 0.9762\n",
            "Epoch 36/50\n",
            "16/16 [==============================] - 1s 73ms/step - loss: 0.0035 - accuracy: 0.9993 - val_loss: 0.0996 - val_accuracy: 0.9772\n",
            "Epoch 37/50\n",
            "16/16 [==============================] - 1s 74ms/step - loss: 0.0029 - accuracy: 0.9997 - val_loss: 0.0988 - val_accuracy: 0.9780\n",
            "Epoch 38/50\n",
            "16/16 [==============================] - 1s 74ms/step - loss: 0.0027 - accuracy: 0.9996 - val_loss: 0.1039 - val_accuracy: 0.9778\n",
            "Epoch 39/50\n",
            "16/16 [==============================] - 1s 75ms/step - loss: 0.0029 - accuracy: 0.9996 - val_loss: 0.0986 - val_accuracy: 0.9794\n",
            "Epoch 40/50\n",
            "16/16 [==============================] - 1s 74ms/step - loss: 0.0027 - accuracy: 0.9996 - val_loss: 0.0987 - val_accuracy: 0.9782\n",
            "Epoch 41/50\n",
            "16/16 [==============================] - 1s 74ms/step - loss: 0.0025 - accuracy: 0.9996 - val_loss: 0.0986 - val_accuracy: 0.9777\n",
            "Epoch 42/50\n",
            "16/16 [==============================] - 1s 74ms/step - loss: 0.0026 - accuracy: 0.9995 - val_loss: 0.0967 - val_accuracy: 0.9780\n",
            "Epoch 43/50\n",
            "16/16 [==============================] - 1s 74ms/step - loss: 0.0025 - accuracy: 0.9996 - val_loss: 0.1010 - val_accuracy: 0.9782\n",
            "Epoch 44/50\n",
            "16/16 [==============================] - 1s 75ms/step - loss: 0.0021 - accuracy: 0.9997 - val_loss: 0.1011 - val_accuracy: 0.9768\n",
            "Epoch 45/50\n",
            "16/16 [==============================] - 1s 74ms/step - loss: 0.0020 - accuracy: 0.9997 - val_loss: 0.1033 - val_accuracy: 0.9778\n",
            "Epoch 46/50\n",
            "16/16 [==============================] - 1s 74ms/step - loss: 0.0017 - accuracy: 0.9998 - val_loss: 0.0991 - val_accuracy: 0.9790\n",
            "Epoch 47/50\n",
            "16/16 [==============================] - 1s 74ms/step - loss: 0.0015 - accuracy: 0.9999 - val_loss: 0.1043 - val_accuracy: 0.9779\n",
            "Epoch 48/50\n",
            "16/16 [==============================] - 1s 76ms/step - loss: 0.0017 - accuracy: 0.9998 - val_loss: 0.1027 - val_accuracy: 0.9783\n",
            "Epoch 49/50\n",
            "16/16 [==============================] - 1s 73ms/step - loss: 0.0017 - accuracy: 0.9997 - val_loss: 0.1048 - val_accuracy: 0.9787\n",
            "Epoch 50/50\n",
            "16/16 [==============================] - 1s 75ms/step - loss: 0.0016 - accuracy: 0.9997 - val_loss: 0.1086 - val_accuracy: 0.9772\n",
            "\n",
            " Evaluate the new model against the test set:\n",
            "4/4 [==============================] - 0s 23ms/step - loss: 0.0827 - accuracy: 0.9809\n"
          ]
        },
        {
          "output_type": "execute_result",
          "data": {
            "text/plain": [
              "[0.0826563909649849, 0.98089998960495]"
            ]
          },
          "metadata": {},
          "execution_count": 31
        },
        {
          "output_type": "display_data",
          "data": {
            "text/plain": [
              "<Figure size 432x288 with 1 Axes>"
            ],
            "image/png": "[encoded data removed]"
          },
          "metadata": {
            "needs_background": "light"
          }
        }
      ]
    }
  ]
}