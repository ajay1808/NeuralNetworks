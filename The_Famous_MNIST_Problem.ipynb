{
  "nbformat": 4,
  "nbformat_minor": 0,
  "metadata": {
    "colab": {
      "name": "The Famous MNIST Problem",
      "provenance": [],
      "collapsed_sections": [],
      "authorship_tag": "ABX9TyOs2QAZHxYl9YhxoAtemzIQ",
      "include_colab_link": true
    },
    "kernelspec": {
      "name": "python3",
      "display_name": "Python 3"
    },
    "language_info": {
      "name": "python"
    }
  },
  "cells": [
    {
      "cell_type": "markdown",
      "metadata": {
        "id": "view-in-github",
        "colab_type": "text"
      },
      "source": [
        "<a href=\"https://colab.research.google.com/github/ajay1808/NeuralNetworks/blob/main/The_Famous_MNIST_Problem.ipynb\" target=\"_parent\"><img src=\"https://colab.research.google.com/assets/colab-badge.svg\" alt=\"Open In Colab\"/></a>"
      ]
    },
    {
      "cell_type": "markdown",
      "source": [
        "This is a try to achieve a high level of accuracy in the MNIST Problem using Neural Networks."
      ],
      "metadata": {
        "id": "FtkcEyHLmZ0n"
      }
    },
    {
      "cell_type": "code",
      "source": [
        "%tensorflow_version 2.x\n",
        "from __future__ import absolute_import, division, print_function, unicode_literals"
      ],
      "metadata": {
        "id": "skarql1YmmJA"
      },
      "execution_count": 1,
      "outputs": []
    },
    {
      "cell_type": "code",
      "source": [
        "# Import the relevant Modules\n",
        "import numpy as np\n",
        "import pandas as pd\n",
        "import tensorflow as tf\n",
        "import seaborn as sns\n",
        "from tensorflow.keras import layers\n",
        "from matplotlib import pyplot as plt\n",
        "\n",
        "pd.options.display.max_rows = 15\n",
        "pd.options.display.float_format = \"{:.1f}\".format\n",
        "\n",
        "np.set_printoptions(linewidth = 250)"
      ],
      "metadata": {
        "id": "8HXxnNQqmqdn"
      },
      "execution_count": 2,
      "outputs": []
    },
    {
      "cell_type": "markdown",
      "source": [
        "Now lets import the Training and Test Data for the MNIST dataset from the Keras Library"
      ],
      "metadata": {
        "id": "2D1ljdwAnb6D"
      }
    },
    {
      "cell_type": "code",
      "source": [
        "(x_train, y_train),(x_test, y_test) = tf.keras.datasets.mnist.load_data()\n"
      ],
      "metadata": {
        "colab": {
          "base_uri": "https://localhost:8080/"
        },
        "id": "y-VemiNhnQvy",
        "outputId": "a124b75f-022f-4994-f656-71e0578114c4"
      },
      "execution_count": 3,
      "outputs": [
        {
          "output_type": "stream",
          "name": "stdout",
          "text": [
            "Downloading data from https://storage.googleapis.com/tensorflow/tf-keras-datasets/mnist.npz\n",
            "11493376/11490434 [==============================] - 0s 0us/step\n",
            "11501568/11490434 [==============================] - 0s 0us/step\n"
          ]
        }
      ]
    },
    {
      "cell_type": "code",
      "source": [
        "print(\"Length of x_train: \",len(x_train))\n",
        "print(\"Length of x_test:\",len(x_test))\n",
        "print(\"Length of y_train: \",len(y_train))\n",
        "print(\"Length of y_test:\",len(y_test))"
      ],
      "metadata": {
        "colab": {
          "base_uri": "https://localhost:8080/"
        },
        "id": "DaJXFdCNnqb4",
        "outputId": "7f6d58cb-2624-438f-bd50-7bd6318ac5aa"
      },
      "execution_count": 4,
      "outputs": [
        {
          "output_type": "stream",
          "name": "stdout",
          "text": [
            "Length of x_train:  60000\n",
            "Length of x_test: 10000\n",
            "Length of y_train:  60000\n",
            "Length of y_test: 10000\n"
          ]
        }
      ]
    },
    {
      "cell_type": "code",
      "source": [
        "x_train[2343]"
      ],
      "metadata": {
        "colab": {
          "base_uri": "https://localhost:8080/"
        },
        "id": "gyVta4ivnxxK",
        "outputId": "82d118a8-6eaf-45c8-e9d8-7b4ac0752b54"
      },
      "execution_count": 5,
      "outputs": [
        {
          "output_type": "execute_result",
          "data": {
            "text/plain": [
              "array([[  0,   0,   0,   0,   0,   0,   0,   0,   0,   0,   0,   0,   0,   0,   0,   0,   0,   0,   0,   0,   0,   0,   0,   0,   0,   0,   0,   0],\n",
              "       [  0,   0,   0,   0,   0,   0,   0,   0,   0,   0,   0,   0,   0,   0,   0,   0,   0,   0,   0,   0,   0,   0,   0,   0,   0,   0,   0,   0],\n",
              "       [  0,   0,   0,   0,   0,   0,   0,   0,   0,   0,   0,   0,   0,   0,   0,   0,   0,   0,   0,   0,   0,   0,   0,   0,   0,   0,   0,   0],\n",
              "       [  0,   0,   0,   0,   0,   0,   0,   0,   0,   0,   0,   0,   0,   0,   0,   0,   0,   0,   0,   0,   0,   0,   0,   0,   0,   0,   0,   0],\n",
              "       [  0,   0,   0,   0,   0,   0,   0,   0,   0,   0,   0,   0,   0,   0,   0,   0,   0,   0,   0,   0,   0,   0,   0,   0,   0,   0,   0,   0],\n",
              "       [  0,   0,   0,   0,   0,   0,   0,   0,   0,   0,   0,   0,   0,   0,   0,   0,   0,   0,   0,   0,   0,   0,   0,   0,   0,   0,   0,   0],\n",
              "       [  0,   0,   0,   0,   0,   0,   0,   0,   0,   0,   0,   0,   0,   0,   0,   0,   0,   0,   0,   0,   0,   0,   0,   0,   0,   0,   0,   0],\n",
              "       [  0,   0,   0,   0,   0,   0,   0,   0,   0,   0,   0,   0,   0,   0,   0,  14,  41,  59,  59,  59, 107, 137, 173, 215, 166,   0,   0,   0],\n",
              "       [  0,   0,   0,   0,   0,   0,   0,   0,   0,   0,   0,   0,   0,  31, 127, 239, 247, 254, 253, 253, 253, 254, 253, 253, 156,   0,   0,   0],\n",
              "       [  0,   0,   0,   0,   0,   0,   0,   0,   0,   0,   0,   0,   0, 182, 254, 254, 242, 235, 222, 156, 156,  79,  43,   0,   0,   0,   0,   0],\n",
              "       [  0,   0,   0,   0,   0,   0,   0,   0,   0,   0,   0,   0,  73, 254, 187, 118,  23,   0,   0,   0,   0,   0,   0,   0,   0,   0,   0,   0],\n",
              "       [  0,   0,   0,   0,   0,   0,   0,   0,   0,   0,   0,  50, 227, 249,  45,   0,   0,   0,   0,   0,   0,   0,   0,   0,   0,   0,   0,   0],\n",
              "       [  0,   0,   0,   0,   0,   0,   0,   0,   0,   0,  13, 178, 253, 162,   0,   0,   0,   0,   0,   0,   0,   0,   0,   0,   0,   0,   0,   0],\n",
              "       [  0,   0,   0,   0,   0,   0,   0,   0,   0,   0, 172, 254, 181,  20,   5,   0,   0,   0,   0,   0,   0,   0,   0,   0,   0,   0,   0,   0],\n",
              "       [  0,   0,   0,   0,   0,   0,   0,   0,   0,   7, 201, 253, 253, 254, 208, 129,  21,   0,   0,   0,   0,   0,   0,   0,   0,   0,   0,   0],\n",
              "       [  0,   0,   0,   0,   0,   0,   0,   0,   0,   0,  30, 117, 164, 195, 221, 253, 163,   0,   0,   0,   0,   0,   0,   0,   0,   0,   0,   0],\n",
              "       [  0,   0,   0,   0,   0,   0,   0,   0,   0,   0,   0,   0,   0,   0, 141, 253, 151,   0,   0,   0,   0,   0,   0,   0,   0,   0,   0,   0],\n",
              "       [  0,   0,   0,   0,   0,  14,   5,   0,   0,   0,   0,   0,  13, 134, 254, 225,  12,   0,   0,   0,   0,   0,   0,   0,   0,   0,   0,   0],\n",
              "       [  0,   0,   0,   0,   0, 188, 178,   0,   0,   0,   0,  22, 195, 254, 235,  75,   0,   0,   0,   0,   0,   0,   0,   0,   0,   0,   0,   0],\n",
              "       [  0,   0,   0,   0,   0, 169, 247,  93,   0,   0,  40, 199, 253, 225,  63,   0,   0,   0,   0,   0,   0,   0,   0,   0,   0,   0,   0,   0],\n",
              "       [  0,   0,   0,   0,   0,  26, 253, 249, 210, 156, 225, 253, 181,  36,   0,   0,   0,   0,   0,   0,   0,   0,   0,   0,   0,   0,   0,   0],\n",
              "       [  0,   0,   0,   0,   0,   0,  49, 198, 246, 255, 251, 127,  30,   0,   0,   0,   0,   0,   0,   0,   0,   0,   0,   0,   0,   0,   0,   0],\n",
              "       [  0,   0,   0,   0,   0,   0,   0,   0,  60, 107,  49,   0,   0,   0,   0,   0,   0,   0,   0,   0,   0,   0,   0,   0,   0,   0,   0,   0],\n",
              "       [  0,   0,   0,   0,   0,   0,   0,   0,   0,   0,   0,   0,   0,   0,   0,   0,   0,   0,   0,   0,   0,   0,   0,   0,   0,   0,   0,   0],\n",
              "       [  0,   0,   0,   0,   0,   0,   0,   0,   0,   0,   0,   0,   0,   0,   0,   0,   0,   0,   0,   0,   0,   0,   0,   0,   0,   0,   0,   0],\n",
              "       [  0,   0,   0,   0,   0,   0,   0,   0,   0,   0,   0,   0,   0,   0,   0,   0,   0,   0,   0,   0,   0,   0,   0,   0,   0,   0,   0,   0],\n",
              "       [  0,   0,   0,   0,   0,   0,   0,   0,   0,   0,   0,   0,   0,   0,   0,   0,   0,   0,   0,   0,   0,   0,   0,   0,   0,   0,   0,   0],\n",
              "       [  0,   0,   0,   0,   0,   0,   0,   0,   0,   0,   0,   0,   0,   0,   0,   0,   0,   0,   0,   0,   0,   0,   0,   0,   0,   0,   0,   0]], dtype=uint8)"
            ]
          },
          "metadata": {},
          "execution_count": 5
        }
      ]
    },
    {
      "cell_type": "code",
      "source": [
        "len(x_train[2343])"
      ],
      "metadata": {
        "colab": {
          "base_uri": "https://localhost:8080/"
        },
        "id": "PIqg7Tc1oW6G",
        "outputId": "c9b2e88c-4b99-4f62-893c-c6241cb53070"
      },
      "execution_count": 6,
      "outputs": [
        {
          "output_type": "execute_result",
          "data": {
            "text/plain": [
              "28"
            ]
          },
          "metadata": {},
          "execution_count": 6
        }
      ]
    },
    {
      "cell_type": "code",
      "source": [
        "len(x_train[2343][1])"
      ],
      "metadata": {
        "colab": {
          "base_uri": "https://localhost:8080/"
        },
        "id": "8xJano9OoioQ",
        "outputId": "3782fd6c-379c-4b99-8cc6-d9ffa0b8f8f4"
      },
      "execution_count": 7,
      "outputs": [
        {
          "output_type": "execute_result",
          "data": {
            "text/plain": [
              "28"
            ]
          },
          "metadata": {},
          "execution_count": 7
        }
      ]
    },
    {
      "cell_type": "markdown",
      "source": [
        "We can Conclude that our data is of the format 28 x 28 for each entry. With each digit marked on a scale from 0-255"
      ],
      "metadata": {
        "id": "rj3Xew3Eo65k"
      }
    },
    {
      "cell_type": "code",
      "source": [
        "plt.imshow(x_train[2343])"
      ],
      "metadata": {
        "colab": {
          "base_uri": "https://localhost:8080/",
          "height": 282
        },
        "id": "UeLPp8e8o3pz",
        "outputId": "36307191-17af-477d-e643-0b07b3a58fd1"
      },
      "execution_count": 8,
      "outputs": [
        {
          "output_type": "execute_result",
          "data": {
            "text/plain": [
              "<matplotlib.image.AxesImage at 0x7fbf997e5610>"
            ]
          },
          "metadata": {},
          "execution_count": 8
        },
        {
          "output_type": "display_data",
          "data": {
            "text/plain": [
              "<Figure size 432x288 with 1 Axes>"
            ],
            "image/png": "[encoded data removed]"
          },
          "metadata": {
            "needs_background": "light"
          }
        }
      ]
    },
    {
      "cell_type": "code",
      "source": [
        "#Normalizing the Data\n",
        "x_train_normalized = x_train / 255.0\n",
        "x_test_normalized = x_test / 255.0"
      ],
      "metadata": {
        "id": "xtnFkVDNpGVy"
      },
      "execution_count": 9,
      "outputs": []
    },
    {
      "cell_type": "code",
      "source": [
        "#Plotting Function\n",
        "def Metric_Plot(epochs, hist, list_of_metrics):\n",
        "\n",
        "  for m in list_of_metrics:\n",
        "    sns.lineplot(data=hist,x=hist[\"Epoch\"], y= hist[m],legend = \"full\",sizes=(.25, 2.5))"
      ],
      "metadata": {
        "id": "lexRYDPhpTJt"
      },
      "execution_count": 10,
      "outputs": []
    },
    {
      "cell_type": "code",
      "source": [
        "#Neural Network\n",
        "\n",
        "def create_model(my_learning_rate):\n",
        "  model = tf.keras.models.Sequential()\n",
        "\n",
        "  #Input Layers\n",
        "  model.add(tf.keras.layers.Flatten(input_shape=(28, 28)))\n",
        "  \n",
        "  #Hidden Layers\n",
        "  model.add(tf.keras.layers.Dense(units=256, activation='relu'))\n",
        "  model.add(tf.keras.layers.Dense(units=128, activation='relu'))\n",
        "  model.add(tf.keras.layers.Dense(units=64, activation='relu'))\n",
        "  model.add(tf.keras.layers.Dropout(rate=0.2))\n",
        "\n",
        "  #Output\n",
        "  model.add(tf.keras.layers.Dense(units=10, activation='softmax'))     \n",
        "                           \n",
        "   \n",
        "  model.compile(optimizer=tf.keras.optimizers.Adam(lr=my_learning_rate),\n",
        "                loss=\"sparse_categorical_crossentropy\",\n",
        "                metrics=['accuracy'])\n",
        "  \n",
        "  return model    \n",
        "\n",
        "\n",
        "def train_model(model, train_features, train_label, epochs,\n",
        "                batch_size=None, validation_split=0.1):\n",
        "\n",
        "  history = model.fit(x=train_features, y=train_label, batch_size=batch_size,\n",
        "                      epochs=epochs, shuffle=True, \n",
        "                      validation_split=validation_split)\n",
        " \n",
        "  epochs = history.epoch\n",
        "  hist = pd.DataFrame(history.history)\n",
        "\n",
        "  return epochs, hist    "
      ],
      "metadata": {
        "id": "tKg-DujXrQR7"
      },
      "execution_count": 11,
      "outputs": []
    },
    {
      "cell_type": "code",
      "source": [
        "#Adjust Hyperparameters\n",
        "learning_rate = 0.003\n",
        "epochs = 50\n",
        "batch_size = 2000\n",
        "validation_split = 0.2\n",
        "\n",
        "\n",
        "#Create and Train Model\n",
        "my_model = create_model(learning_rate)\n",
        "epochs, hist = train_model(my_model, x_train_normalized, y_train, \n",
        "                           epochs, batch_size, validation_split)\n",
        "#Mention the metrics required to PLot\n",
        "list_of_metrics_to_plot = ['accuracy']\n",
        "\n",
        "\n",
        "histtable = pd.DataFrame(hist)\n",
        "histtable[\"Epoch\"] = np.arange(len(histtable))\n",
        "Metric_Plot(epochs, histtable, list_of_metrics_to_plot)\n",
        "\n",
        "\n",
        "#Check Model Performace\n",
        "print(\"\\n Evaluate the new model against the test set:\")\n",
        "my_model.evaluate(x=x_test_normalized, y=y_test, batch_size=batch_size)"
      ],
      "metadata": {
        "colab": {
          "base_uri": "https://localhost:8080/",
          "height": 1000
        },
        "id": "HC_GbEWZsDdZ",
        "outputId": "7c7c5eb4-1f0f-4562-bda6-3657a3251cbe"
      },
      "execution_count": 12,
      "outputs": [
        {
          "output_type": "stream",
          "name": "stderr",
          "text": [
            "/usr/local/lib/python3.7/dist-packages/keras/optimizer_v2/adam.py:105: UserWarning: The `lr` argument is deprecated, use `learning_rate` instead.\n",
            "  super(Adam, self).__init__(name, **kwargs)\n"
          ]
        },
        {
          "output_type": "stream",
          "name": "stdout",
          "text": [
            "Epoch 1/50\n",
            "24/24 [==============================] - 2s 69ms/step - loss: 0.7723 - accuracy: 0.7591 - val_loss: 0.2572 - val_accuracy: 0.9273\n",
            "Epoch 2/50\n",
            "24/24 [==============================] - 1s 59ms/step - loss: 0.2567 - accuracy: 0.9255 - val_loss: 0.1632 - val_accuracy: 0.9522\n",
            "Epoch 3/50\n",
            "24/24 [==============================] - 1s 59ms/step - loss: 0.1702 - accuracy: 0.9501 - val_loss: 0.1318 - val_accuracy: 0.9613\n",
            "Epoch 4/50\n",
            "24/24 [==============================] - 1s 58ms/step - loss: 0.1300 - accuracy: 0.9615 - val_loss: 0.1250 - val_accuracy: 0.9606\n",
            "Epoch 5/50\n",
            "24/24 [==============================] - 1s 59ms/step - loss: 0.1042 - accuracy: 0.9687 - val_loss: 0.1034 - val_accuracy: 0.9680\n",
            "Epoch 6/50\n",
            "24/24 [==============================] - 1s 57ms/step - loss: 0.0808 - accuracy: 0.9759 - val_loss: 0.0939 - val_accuracy: 0.9728\n",
            "Epoch 7/50\n",
            "24/24 [==============================] - 1s 57ms/step - loss: 0.0658 - accuracy: 0.9801 - val_loss: 0.0969 - val_accuracy: 0.9721\n",
            "Epoch 8/50\n",
            "24/24 [==============================] - 1s 58ms/step - loss: 0.0551 - accuracy: 0.9840 - val_loss: 0.0854 - val_accuracy: 0.9748\n",
            "Epoch 9/50\n",
            "24/24 [==============================] - 1s 57ms/step - loss: 0.0435 - accuracy: 0.9872 - val_loss: 0.0899 - val_accuracy: 0.9743\n",
            "Epoch 10/50\n",
            "24/24 [==============================] - 1s 57ms/step - loss: 0.0385 - accuracy: 0.9881 - val_loss: 0.0916 - val_accuracy: 0.9743\n",
            "Epoch 11/50\n",
            "24/24 [==============================] - 1s 57ms/step - loss: 0.0308 - accuracy: 0.9904 - val_loss: 0.0854 - val_accuracy: 0.9770\n",
            "Epoch 12/50\n",
            "24/24 [==============================] - 1s 56ms/step - loss: 0.0247 - accuracy: 0.9927 - val_loss: 0.0886 - val_accuracy: 0.9775\n",
            "Epoch 13/50\n",
            "24/24 [==============================] - 1s 55ms/step - loss: 0.0221 - accuracy: 0.9934 - val_loss: 0.1023 - val_accuracy: 0.9743\n",
            "Epoch 14/50\n",
            "24/24 [==============================] - 1s 57ms/step - loss: 0.0190 - accuracy: 0.9945 - val_loss: 0.0950 - val_accuracy: 0.9770\n",
            "Epoch 15/50\n",
            "24/24 [==============================] - 1s 56ms/step - loss: 0.0146 - accuracy: 0.9955 - val_loss: 0.0940 - val_accuracy: 0.9765\n",
            "Epoch 16/50\n",
            "24/24 [==============================] - 1s 57ms/step - loss: 0.0133 - accuracy: 0.9963 - val_loss: 0.0931 - val_accuracy: 0.9769\n",
            "Epoch 17/50\n",
            "24/24 [==============================] - 1s 56ms/step - loss: 0.0118 - accuracy: 0.9965 - val_loss: 0.1037 - val_accuracy: 0.9776\n",
            "Epoch 18/50\n",
            "24/24 [==============================] - 1s 56ms/step - loss: 0.0108 - accuracy: 0.9970 - val_loss: 0.1012 - val_accuracy: 0.9777\n",
            "Epoch 19/50\n",
            "24/24 [==============================] - 1s 56ms/step - loss: 0.0097 - accuracy: 0.9972 - val_loss: 0.0968 - val_accuracy: 0.9778\n",
            "Epoch 20/50\n",
            "24/24 [==============================] - 1s 59ms/step - loss: 0.0100 - accuracy: 0.9967 - val_loss: 0.1132 - val_accuracy: 0.9747\n",
            "Epoch 21/50\n",
            "24/24 [==============================] - 1s 57ms/step - loss: 0.0086 - accuracy: 0.9974 - val_loss: 0.1051 - val_accuracy: 0.9772\n",
            "Epoch 22/50\n",
            "24/24 [==============================] - 1s 59ms/step - loss: 0.0082 - accuracy: 0.9974 - val_loss: 0.1073 - val_accuracy: 0.9777\n",
            "Epoch 23/50\n",
            "24/24 [==============================] - 2s 89ms/step - loss: 0.0086 - accuracy: 0.9974 - val_loss: 0.1003 - val_accuracy: 0.9783\n",
            "Epoch 24/50\n",
            "24/24 [==============================] - 2s 71ms/step - loss: 0.0073 - accuracy: 0.9977 - val_loss: 0.1077 - val_accuracy: 0.9778\n",
            "Epoch 25/50\n",
            "24/24 [==============================] - 1s 56ms/step - loss: 0.0063 - accuracy: 0.9980 - val_loss: 0.1131 - val_accuracy: 0.9769\n",
            "Epoch 26/50\n",
            "24/24 [==============================] - 1s 56ms/step - loss: 0.0056 - accuracy: 0.9984 - val_loss: 0.1075 - val_accuracy: 0.9789\n",
            "Epoch 27/50\n",
            "24/24 [==============================] - 1s 57ms/step - loss: 0.0048 - accuracy: 0.9985 - val_loss: 0.1140 - val_accuracy: 0.9783\n",
            "Epoch 28/50\n",
            "24/24 [==============================] - 1s 58ms/step - loss: 0.0045 - accuracy: 0.9988 - val_loss: 0.1106 - val_accuracy: 0.9778\n",
            "Epoch 29/50\n",
            "24/24 [==============================] - 1s 59ms/step - loss: 0.0045 - accuracy: 0.9986 - val_loss: 0.1189 - val_accuracy: 0.9781\n",
            "Epoch 30/50\n",
            "24/24 [==============================] - 1s 59ms/step - loss: 0.0046 - accuracy: 0.9987 - val_loss: 0.1254 - val_accuracy: 0.9764\n",
            "Epoch 31/50\n",
            "24/24 [==============================] - 1s 56ms/step - loss: 0.0043 - accuracy: 0.9987 - val_loss: 0.1263 - val_accuracy: 0.9770\n",
            "Epoch 32/50\n",
            "24/24 [==============================] - 1s 55ms/step - loss: 0.0045 - accuracy: 0.9985 - val_loss: 0.1292 - val_accuracy: 0.9778\n",
            "Epoch 33/50\n",
            "24/24 [==============================] - 1s 58ms/step - loss: 0.0062 - accuracy: 0.9981 - val_loss: 0.1216 - val_accuracy: 0.9773\n",
            "Epoch 34/50\n",
            "24/24 [==============================] - 1s 58ms/step - loss: 0.0057 - accuracy: 0.9983 - val_loss: 0.1181 - val_accuracy: 0.9783\n",
            "Epoch 35/50\n",
            "24/24 [==============================] - 1s 59ms/step - loss: 0.0060 - accuracy: 0.9981 - val_loss: 0.1325 - val_accuracy: 0.9772\n",
            "Epoch 36/50\n",
            "24/24 [==============================] - 1s 58ms/step - loss: 0.0065 - accuracy: 0.9979 - val_loss: 0.1324 - val_accuracy: 0.9766\n",
            "Epoch 37/50\n",
            "24/24 [==============================] - 1s 58ms/step - loss: 0.0055 - accuracy: 0.9982 - val_loss: 0.1295 - val_accuracy: 0.9781\n",
            "Epoch 38/50\n",
            "24/24 [==============================] - 1s 58ms/step - loss: 0.0061 - accuracy: 0.9979 - val_loss: 0.1272 - val_accuracy: 0.9773\n",
            "Epoch 39/50\n",
            "24/24 [==============================] - 1s 59ms/step - loss: 0.0054 - accuracy: 0.9981 - val_loss: 0.1282 - val_accuracy: 0.9779\n",
            "Epoch 40/50\n",
            "24/24 [==============================] - 1s 59ms/step - loss: 0.0044 - accuracy: 0.9986 - val_loss: 0.1287 - val_accuracy: 0.9776\n",
            "Epoch 41/50\n",
            "24/24 [==============================] - 1s 59ms/step - loss: 0.0052 - accuracy: 0.9985 - val_loss: 0.1318 - val_accuracy: 0.9764\n",
            "Epoch 42/50\n",
            "24/24 [==============================] - 1s 57ms/step - loss: 0.0060 - accuracy: 0.9981 - val_loss: 0.1284 - val_accuracy: 0.9777\n",
            "Epoch 43/50\n",
            "24/24 [==============================] - 1s 57ms/step - loss: 0.0060 - accuracy: 0.9981 - val_loss: 0.1272 - val_accuracy: 0.9780\n",
            "Epoch 44/50\n",
            "24/24 [==============================] - 1s 58ms/step - loss: 0.0053 - accuracy: 0.9983 - val_loss: 0.1349 - val_accuracy: 0.9764\n",
            "Epoch 45/50\n",
            "24/24 [==============================] - 1s 58ms/step - loss: 0.0041 - accuracy: 0.9985 - val_loss: 0.1241 - val_accuracy: 0.9788\n",
            "Epoch 46/50\n",
            "24/24 [==============================] - 1s 58ms/step - loss: 0.0054 - accuracy: 0.9982 - val_loss: 0.1241 - val_accuracy: 0.9783\n",
            "Epoch 47/50\n",
            "24/24 [==============================] - 1s 56ms/step - loss: 0.0040 - accuracy: 0.9988 - val_loss: 0.1213 - val_accuracy: 0.9796\n",
            "Epoch 48/50\n",
            "24/24 [==============================] - 1s 58ms/step - loss: 0.0038 - accuracy: 0.9986 - val_loss: 0.1263 - val_accuracy: 0.9797\n",
            "Epoch 49/50\n",
            "24/24 [==============================] - 1s 59ms/step - loss: 0.0038 - accuracy: 0.9988 - val_loss: 0.1400 - val_accuracy: 0.9788\n",
            "Epoch 50/50\n",
            "24/24 [==============================] - 1s 56ms/step - loss: 0.0035 - accuracy: 0.9989 - val_loss: 0.1393 - val_accuracy: 0.9782\n",
            "\n",
            " Evaluate the new model against the test set:\n",
            "5/5 [==============================] - 0s 25ms/step - loss: 0.1255 - accuracy: 0.9777\n"
          ]
        },
        {
          "output_type": "execute_result",
          "data": {
            "text/plain": [
              "[0.12551163136959076, 0.9776999950408936]"
            ]
          },
          "metadata": {},
          "execution_count": 12
        },
        {
          "output_type": "display_data",
          "data": {
            "text/plain": [
              "<Figure size 432x288 with 1 Axes>"
            ],
            "image/png": "[encoded data removed]"
          },
          "metadata": {
            "needs_background": "light"
          }
        }
      ]
    }
  ]
}